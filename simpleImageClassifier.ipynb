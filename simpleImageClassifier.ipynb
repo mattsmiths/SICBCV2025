{
  "nbformat": 4,
  "nbformat_minor": 0,
  "metadata": {
    "colab": {
      "provenance": [],
      "authorship_tag": "ABX9TyMQBas5CbFEoEaHLzbuBB6y",
      "include_colab_link": true
    },
    "kernelspec": {
      "name": "python3",
      "display_name": "Python 3"
    },
    "language_info": {
      "name": "python"
    }
  },
  "cells": [
    {
      "cell_type": "markdown",
      "metadata": {
        "id": "view-in-github",
        "colab_type": "text"
      },
      "source": [
        "<a href=\"https://colab.research.google.com/github/mattsmiths/SICBCV2025/blob/main/simpleImageClassifier.ipynb\" target=\"_parent\"><img src=\"https://colab.research.google.com/assets/colab-badge.svg\" alt=\"Open In Colab\"/></a>"
      ]
    },
    {
      "cell_type": "code",
      "execution_count": null,
      "metadata": {
        "id": "cUAtMSSLF_KD"
      },
      "outputs": [],
      "source": [
        "import tensorflow as tf\n",
        "\n",
        "from tensorflow.keras import datasets, layers, models\n",
        "import matplotlib.pyplot as plt"
      ]
    },
    {
      "cell_type": "code",
      "source": [
        "# Normalize pixel values to be between 0 and 1\n",
        "train_images, test_images = train_images / 255.0, test_images / 255.0"
      ],
      "metadata": {
        "id": "1INaB1B2GK7t"
      },
      "execution_count": null,
      "outputs": []
    },
    {
      "cell_type": "code",
      "source": [
        "!pip install bing_image_downloader"
      ],
      "metadata": {
        "colab": {
          "base_uri": "https://localhost:8080/"
        },
        "id": "wEWp6K58Hdkq",
        "outputId": "d85753e9-dc1e-4654-8681-f9196f2fa8ee"
      },
      "execution_count": null,
      "outputs": [
        {
          "output_type": "stream",
          "name": "stdout",
          "text": [
            "Collecting bing_image_downloader\n",
            "  Downloading bing_image_downloader-1.1.1-py3-none-any.whl (5.7 kB)\n",
            "Installing collected packages: bing-image-downloader\n",
            "Successfully installed bing-image-downloader-1.1.1\n"
          ]
        }
      ]
    },
    {
      "cell_type": "code",
      "source": [
        "from bing_image_downloader import downloader\n",
        "downloader.download('hat', limit=75,  output_dir='dataset', force_replace=False, timeout=60)"
      ],
      "metadata": {
        "id": "2BVnpAYBHdNX"
      },
      "execution_count": null,
      "outputs": []
    },
    {
      "cell_type": "code",
      "source": [
        "from bing_image_downloader import downloader\n",
        "downloader.download('bat', limit=75,  output_dir='dataset', force_replace=False, timeout=60)"
      ],
      "metadata": {
        "id": "MRmrxaVAIVyD"
      },
      "execution_count": null,
      "outputs": []
    },
    {
      "cell_type": "code",
      "source": [
        "import glob\n",
        "import cv2 as cv\n",
        "import numpy as np\n",
        "getHats = glob.glob('/content/dataset/bat/*')\n",
        "getBats = glob.glob('/content/dataset/hat/*')\n",
        "\n",
        "sizeCH = 64\n",
        "\n",
        "test = np.zeros((1,sizeCH,sizeCH,3))\n",
        "key1 = np.zeros((1,1))\n",
        "for ele in getHats:\n",
        "  in1 = cv.imread(ele)\n",
        "  in1 = np.expand_dims(cv.resize(in1,(sizeCH,sizeCH)),0)/255\n",
        "  test = np.concatenate((test,in1),0)\n",
        "  key1 = np.concatenate((key1,np.zeros((1,1))),0)\n",
        "test = np.delete(test,0,0)\n",
        "\n",
        "for ele in getBats:\n",
        "  in1 = cv.imread(ele)\n",
        "  in1 = np.expand_dims(cv.resize(in1,(sizeCH,sizeCH)),0)/255\n",
        "  test = np.concatenate((test,in1),0)\n",
        "  key1 = np.concatenate((key1,np.ones((1,1))),0)"
      ],
      "metadata": {
        "id": "QnHQFFckLEr9"
      },
      "execution_count": null,
      "outputs": []
    },
    {
      "cell_type": "code",
      "source": [
        "plt.imshow(test[5])"
      ],
      "metadata": {
        "colab": {
          "base_uri": "https://localhost:8080/",
          "height": 285
        },
        "id": "HC4v4gYKMcvf",
        "outputId": "1b64f612-1f3a-4c20-e68d-54a27f37fbed"
      },
      "execution_count": null,
      "outputs": [
        {
          "output_type": "execute_result",
          "data": {
            "text/plain": [
              "<matplotlib.image.AxesImage at 0x7fa04604a390>"
            ]
          },
          "metadata": {},
          "execution_count": 160
        },
        {
          "output_type": "display_data",
          "data": {
            "image/png": "[encoded data removed]",
            "text/plain": [
              "<Figure size 432x288 with 1 Axes>"
            ]
          },
          "metadata": {
            "needs_background": "light"
          }
        }
      ]
    },
    {
      "cell_type": "code",
      "source": [
        "(train_images, train_labels), (test_images, test_labels) = datasets.cifar10.load_data()"
      ],
      "metadata": {
        "id": "7cLpYZ4tIMpa"
      },
      "execution_count": null,
      "outputs": []
    },
    {
      "cell_type": "code",
      "source": [
        "out= np.arange(0,len(test))\n",
        "np.random.shuffle(out)\n",
        "\n",
        "trainInd = out[:np.int(len(out)*.80)]\n",
        "valInd = out[np.int(len(out)*.80):]\n",
        "\n",
        "train_images = test[trainInd]\n",
        "train_labels = key1[trainInd]\n",
        "\n",
        "test_images = test[valInd]\n",
        "test_labels = key1[valInd]"
      ],
      "metadata": {
        "id": "N8OGaM6oPsmY"
      },
      "execution_count": null,
      "outputs": []
    },
    {
      "cell_type": "code",
      "source": [
        "model = models.Sequential()\n",
        "model.add(layers.Conv2D(32, (3, 3), activation='relu', input_shape=(64, 64, 3)))\n",
        "model.add(layers.MaxPooling2D((2, 2)))\n",
        "model.add(layers.Conv2D(64, (3, 3), activation='relu'))\n",
        "model.add(layers.MaxPooling2D((2, 2)))\n",
        "model.add(layers.Conv2D(64, (3, 3), activation='relu'))\n",
        "model.add(layers.Flatten())\n",
        "model.add(layers.Dense(64, activation='relu'))\n",
        "model.add(layers.Dense(2))"
      ],
      "metadata": {
        "id": "FcLs6Vd5IP44"
      },
      "execution_count": null,
      "outputs": []
    },
    {
      "cell_type": "code",
      "source": [
        "model.summary()"
      ],
      "metadata": {
        "colab": {
          "base_uri": "https://localhost:8080/"
        },
        "id": "7hCBSgbRIoN0",
        "outputId": "e13499f6-9a9a-4d11-df0f-bc05afdb02de"
      },
      "execution_count": null,
      "outputs": [
        {
          "output_type": "stream",
          "name": "stdout",
          "text": [
            "Model: \"sequential_6\"\n",
            "_________________________________________________________________\n",
            " Layer (type)                Output Shape              Param #   \n",
            "=================================================================\n",
            " conv2d_18 (Conv2D)          (None, 62, 62, 32)        896       \n",
            "                                                                 \n",
            " max_pooling2d_12 (MaxPoolin  (None, 31, 31, 32)       0         \n",
            " g2D)                                                            \n",
            "                                                                 \n",
            " conv2d_19 (Conv2D)          (None, 29, 29, 64)        18496     \n",
            "                                                                 \n",
            " max_pooling2d_13 (MaxPoolin  (None, 14, 14, 64)       0         \n",
            " g2D)                                                            \n",
            "                                                                 \n",
            " conv2d_20 (Conv2D)          (None, 12, 12, 64)        36928     \n",
            "                                                                 \n",
            " flatten_8 (Flatten)         (None, 9216)              0         \n",
            "                                                                 \n",
            " dense_16 (Dense)            (None, 64)                589888    \n",
            "                                                                 \n",
            " dense_17 (Dense)            (None, 2)                 130       \n",
            "                                                                 \n",
            "=================================================================\n",
            "Total params: 646,338\n",
            "Trainable params: 646,338\n",
            "Non-trainable params: 0\n",
            "_________________________________________________________________\n"
          ]
        }
      ]
    },
    {
      "cell_type": "code",
      "source": [
        "model.compile(optimizer='adam',\n",
        "              loss=tf.keras.losses.SparseCategoricalCrossentropy(from_logits=True),\n",
        "              metrics=['accuracy'])"
      ],
      "metadata": {
        "id": "lOHXllfGK1Fc"
      },
      "execution_count": null,
      "outputs": []
    },
    {
      "cell_type": "code",
      "source": [
        "history = model.fit(train_images, train_labels, epochs=15,\n",
        "                    validation_data=(test_images, test_labels))"
      ],
      "metadata": {
        "colab": {
          "base_uri": "https://localhost:8080/"
        },
        "id": "v_S220fSK8kr",
        "outputId": "fb71e98c-31bd-431b-e632-996d4da5f307"
      },
      "execution_count": null,
      "outputs": [
        {
          "output_type": "stream",
          "name": "stdout",
          "text": [
            "Epoch 1/15\n",
            "4/4 [==============================] - 2s 271ms/step - loss: 0.8124 - accuracy: 0.5234 - val_loss: 0.7176 - val_accuracy: 0.5000\n",
            "Epoch 2/15\n",
            "4/4 [==============================] - 1s 239ms/step - loss: 0.6258 - accuracy: 0.7031 - val_loss: 0.6801 - val_accuracy: 0.5938\n",
            "Epoch 3/15\n",
            "4/4 [==============================] - 1s 239ms/step - loss: 0.5670 - accuracy: 0.7188 - val_loss: 0.5384 - val_accuracy: 0.7500\n",
            "Epoch 4/15\n",
            "4/4 [==============================] - 1s 237ms/step - loss: 0.4286 - accuracy: 0.7969 - val_loss: 0.5304 - val_accuracy: 0.7188\n",
            "Epoch 5/15\n",
            "4/4 [==============================] - 1s 234ms/step - loss: 0.3612 - accuracy: 0.8125 - val_loss: 0.4865 - val_accuracy: 0.7500\n",
            "Epoch 6/15\n",
            "4/4 [==============================] - 1s 230ms/step - loss: 0.3288 - accuracy: 0.8516 - val_loss: 0.5970 - val_accuracy: 0.7500\n",
            "Epoch 7/15\n",
            "4/4 [==============================] - 1s 239ms/step - loss: 0.3048 - accuracy: 0.8672 - val_loss: 0.4364 - val_accuracy: 0.7500\n",
            "Epoch 8/15\n",
            "4/4 [==============================] - 1s 221ms/step - loss: 0.2287 - accuracy: 0.9375 - val_loss: 0.5421 - val_accuracy: 0.7812\n",
            "Epoch 9/15\n",
            "4/4 [==============================] - 1s 226ms/step - loss: 0.1943 - accuracy: 0.9375 - val_loss: 0.7065 - val_accuracy: 0.7500\n",
            "Epoch 10/15\n",
            "4/4 [==============================] - 1s 235ms/step - loss: 0.2246 - accuracy: 0.9062 - val_loss: 0.6873 - val_accuracy: 0.6875\n",
            "Epoch 11/15\n",
            "4/4 [==============================] - 1s 229ms/step - loss: 0.2201 - accuracy: 0.9219 - val_loss: 0.4440 - val_accuracy: 0.7500\n",
            "Epoch 12/15\n",
            "4/4 [==============================] - 1s 213ms/step - loss: 0.1567 - accuracy: 0.9453 - val_loss: 0.4770 - val_accuracy: 0.8438\n",
            "Epoch 13/15\n",
            "4/4 [==============================] - 1s 231ms/step - loss: 0.1351 - accuracy: 0.9531 - val_loss: 0.4922 - val_accuracy: 0.8125\n",
            "Epoch 14/15\n",
            "4/4 [==============================] - 1s 232ms/step - loss: 0.1175 - accuracy: 0.9531 - val_loss: 0.5662 - val_accuracy: 0.8750\n",
            "Epoch 15/15\n",
            "4/4 [==============================] - 1s 232ms/step - loss: 0.0899 - accuracy: 0.9688 - val_loss: 0.5174 - val_accuracy: 0.8750\n"
          ]
        }
      ]
    },
    {
      "cell_type": "code",
      "source": [
        "plt.plot(history.history['accuracy'], label='accuracy')\n",
        "plt.plot(history.history['val_accuracy'], label = 'val_accuracy')\n",
        "plt.xlabel('Epoch')\n",
        "plt.ylabel('Accuracy')\n",
        "plt.ylim([0.5, 1])\n",
        "plt.legend(loc='lower right')\n",
        "\n",
        "test_loss, test_acc = model.evaluate(test_images,  test_labels, verbose=2)"
      ],
      "metadata": {
        "colab": {
          "base_uri": "https://localhost:8080/",
          "height": 300
        },
        "id": "hIDenM-pK_ou",
        "outputId": "e1245e98-beb1-4876-e890-fcf03767d91b"
      },
      "execution_count": null,
      "outputs": [
        {
          "output_type": "stream",
          "name": "stdout",
          "text": [
            "1/1 - 0s - loss: 0.5174 - accuracy: 0.8750 - 65ms/epoch - 65ms/step\n"
          ]
        },
        {
          "output_type": "display_data",
          "data": {
            "image/png": "[encoded data removed]",
            "text/plain": [
              "<Figure size 432x288 with 1 Axes>"
            ]
          },
          "metadata": {
            "needs_background": "light"
          }
        }
      ]
    },
    {
      "cell_type": "code",
      "source": [
        "plt.imshow(test[85])"
      ],
      "metadata": {
        "colab": {
          "base_uri": "https://localhost:8080/",
          "height": 285
        },
        "id": "WVPn2oXmLCN2",
        "outputId": "76137b86-60c5-4b1f-aea7-fbef9327a674"
      },
      "execution_count": null,
      "outputs": [
        {
          "output_type": "execute_result",
          "data": {
            "text/plain": [
              "<matplotlib.image.AxesImage at 0x7fa050d956d0>"
            ]
          },
          "metadata": {},
          "execution_count": 171
        },
        {
          "output_type": "display_data",
          "data": {
            "image/png": "[encoded data removed]",
            "text/plain": [
              "<Figure size 432x288 with 1 Axes>"
            ]
          },
          "metadata": {
            "needs_background": "light"
          }
        }
      ]
    },
    {
      "cell_type": "code",
      "source": [
        "out = model.predict(np.expand_dims(test[85],0))\n",
        "print(out)"
      ],
      "metadata": {
        "colab": {
          "base_uri": "https://localhost:8080/"
        },
        "id": "mIU2p9nhT8kf",
        "outputId": "0d861251-4b7b-4d64-ee91-b744dc30497c"
      },
      "execution_count": null,
      "outputs": [
        {
          "output_type": "stream",
          "name": "stdout",
          "text": [
            "[[-4.467807  7.259677]]\n"
          ]
        }
      ]
    },
    {
      "cell_type": "code",
      "source": [],
      "metadata": {
        "id": "sOqjyuWzVJkS"
      },
      "execution_count": null,
      "outputs": []
    }
  ]
}